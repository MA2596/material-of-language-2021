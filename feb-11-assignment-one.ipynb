{
 "cells": [
  {
   "cell_type": "code",
   "execution_count": 1,
   "metadata": {},
   "outputs": [],
   "source": [
    "text = open('my_mother.txt').read()"
   ]
  },
  {
   "cell_type": "code",
   "execution_count": 2,
   "metadata": {
    "scrolled": true
   },
   "outputs": [],
   "source": [
    "print(text)"
   ]
  },
  {
   "cell_type": "code",
   "execution_count": 3,
   "metadata": {},
   "outputs": [],
   "source": [
    "import textwrap"
   ]
  },
  {
   "cell_type": "markdown",
   "metadata": {},
   "source": [
    "For the first assignment, I wanted to work with \"My Mother\" by Frieda Hughes as the main body text. Frieda Hughes, poet and painter, is the daughter of Sylvia Plath and Ted Hughes. Sylvia dided by suicide when Freida was three and became a frequent subject for literary analysis and media depictions. Ted died in 1998, and Frieda's older brother, Nicholas Hughes, died by suicide in 2009.\n",
    "\n",
    "The poem was written in response to the production of \"Sylvia\" in 2003, voicing a daughter's disdain for towards the media's needs to romanticse private tragedies on public screens.\n",
    "\n",
    "I chose this poem because there is an interesting emphasis on the passage (but also) looping of time, as Frieda have to watch her mom die again and again on screen. I had an idea of repeating the words, so that when time-related words such as \"again\" or \"annually\" appears, it will be repeated to express the length of time (so 'daily\" would be repeated ... 365 times? and at the end of the poem, \"forever\" would be looped forever, never letting the poem fully finish). The concept is not very obvious in this sketchbook, since I mostly worked on trying to isolate words like \"die\" or time-related keywords, but I really like the idea and will revisit when I have a better grasp of Python. For the first assignment, I wanted to warm myself up to Python and mostly poked around with different commands. It's not as bad as I think, since it's similar to what we learned in ICM ... but also vastly different."
   ]
  },
  {
   "cell_type": "code",
   "execution_count": 4,
   "metadata": {},
   "outputs": [],
   "source": [
    "import random"
   ]
  },
  {
   "cell_type": "code",
   "execution_count": 5,
   "metadata": {},
   "outputs": [],
   "source": [
    "for i in range(10):\n",
    "    print(chr(random.randrange(5000)))"
   ]
  },
  {
   "cell_type": "code",
   "execution_count": 6,
   "metadata": {},
   "outputs": [],
   "source": [
    "msg_a = \"mother said there'd be days like these\"\n",
    "msg_b = \"suppose there was a pigeon, suppose there is\""
   ]
  },
  {
   "cell_type": "code",
   "execution_count": 7,
   "metadata": {},
   "outputs": [],
   "source": [
    "''.join([chr(ord(c)) for c in msg_a])"
   ]
  },
  {
   "cell_type": "code",
   "execution_count": 8,
   "metadata": {},
   "outputs": [],
   "source": [
    "''.join([chr(ord(c)*2) for c in msg_a])"
   ]
  },
  {
   "cell_type": "code",
   "execution_count": 9,
   "metadata": {},
   "outputs": [],
   "source": [
    "import unicodedata"
   ]
  },
  {
   "cell_type": "code",
   "execution_count": 10,
   "metadata": {},
   "outputs": [],
   "source": [
    "import math"
   ]
  },
  {
   "cell_type": "code",
   "execution_count": 11,
   "metadata": {},
   "outputs": [],
   "source": [
    "emoji_text = open(\"my_mother.txt\", \"r\", encoding=\"utf8\").read()\n",
    "print(emoji_text)"
   ]
  },
  {
   "cell_type": "code",
   "execution_count": 12,
   "metadata": {},
   "outputs": [
    {
     "data": {
      "text/plain": [
       "'\\n'"
      ]
     },
     "execution_count": 12,
     "metadata": {},
     "output_type": "execute_result"
    }
   ],
   "source": [
    "min(text)"
   ]
  },
  {
   "cell_type": "code",
   "execution_count": 13,
   "metadata": {},
   "outputs": [],
   "source": [
    "words = text.split()"
   ]
  },
  {
   "cell_type": "code",
   "execution_count": 14,
   "metadata": {},
   "outputs": [
    {
     "data": {
      "text/plain": [
       "['killing', 'her', 'again.', 'She', 'said']"
      ]
     },
     "execution_count": 14,
     "metadata": {},
     "output_type": "execute_result"
    }
   ],
   "source": [
    "words[2:7]"
   ]
  },
  {
   "cell_type": "code",
   "execution_count": 15,
   "metadata": {
    "scrolled": true
   },
   "outputs": [
    {
     "name": "stdout",
     "output_type": "stream",
     "text": [
      "['They', 'are', 'killing', 'her', 'again.', 'She', 'said', 'she', 'did', 'it', 'One', 'year', 'in', 'every', 'ten,', 'But', 'they', 'do', 'it', 'annually,', 'or', 'weekly,', 'Some', 'even', 'do', 'it', 'daily,', 'Carrying', 'her', 'death', 'around', 'in', 'their', 'heads', 'And', 'practising', 'it.', 'She', 'saves', 'them', 'The', 'trouble', 'of', 'their', 'own;', 'They', 'can', 'die', 'through', 'her', 'Without', 'ever', 'making', 'The', 'decision.', 'My', 'buried', 'mother', 'Is', 'up-dug', 'for', 'repeat', 'performances.', 'Now', 'they', 'want', 'to', 'make', 'a', 'film', 'For', 'anyone', 'lacking', 'the', 'ability', 'To', 'imagine', 'the', 'body,', 'head', 'in', 'oven,', 'Orphaning', 'children.', 'Then', 'It', 'can', 'be', 'rewound', 'So', 'they', 'can', 'watch', 'her', 'die', 'Right', 'from', 'the', 'beginning', 'again.', 'The', 'peanut', 'eaters,', 'entertained', 'At', 'my', 'mother’s', 'death,', 'will', 'go', 'home,', 'Each', 'carrying', 'their', 'memory', 'of', 'her,', 'Lifeless', '–', 'a', 'souvenir.', 'Maybe', 'they’ll', 'buy', 'the', 'video.', 'Watching', 'someone', 'on', 'TV', 'Means', 'all', 'they', 'have', 'to', 'do', 'Is', 'press', '‘pause’', 'If', 'they', 'want', 'to', 'boil', 'a', 'kettle,', 'While', 'my', 'mother', 'holds', 'her', 'breath', 'on', 'screen', 'To', 'finish', 'dying', 'after', 'tea.', 'The', 'filmmakers', 'have', 'collected', 'The', 'body', 'parts,', 'They', 'want', 'me', 'to', 'see.', 'They', 'require', 'dressings', 'to', 'cover', 'the', 'joins', 'And', 'disguise', 'the', 'prosthetics', 'In', 'their', 'remake', 'of', 'my', 'mother.', 'They', 'want', 'to', 'use', 'her', 'poetry', 'As', 'stitching', 'and', 'sutures', 'To', 'give', 'it', 'credibility.', 'They', 'think', 'I', 'should', 'love', 'it', '–', 'Having', 'her', 'back', 'again,', 'they', 'think', 'I', 'should', 'give', 'them', 'my', 'mother’s', 'words', 'To', 'fill', 'the', 'mouth', 'of', 'their', 'monster,', 'Their', 'Sylvia', 'Suicide', 'Doll,', 'Who', 'will', 'walk', 'and', 'talk', 'And', 'die', 'at', 'will,', 'And', 'die,', 'and', 'die', 'And', 'forever', 'be', 'dying.']\n",
      "['again.', 'She', 'said', 'she', 'did', 'it', 'One', 'year', 'in', 'every']\n"
     ]
    }
   ],
   "source": [
    "print(words)\n",
    "print(words[4:14])"
   ]
  },
  {
   "cell_type": "code",
   "execution_count": 16,
   "metadata": {},
   "outputs": [
    {
     "name": "stdout",
     "output_type": "stream",
     "text": [
      "I Carrying the\n"
     ]
    }
   ],
   "source": [
    "selected = random.sample(words, 3)\n",
    "joined = ' '.join(selected)\n",
    "print(joined)"
   ]
  },
  {
   "cell_type": "code",
   "execution_count": 17,
   "metadata": {},
   "outputs": [
    {
     "name": "stdout",
     "output_type": "stream",
     "text": [
      "to They death her will, So her, think One give monster, to own; love her\n"
     ]
    }
   ],
   "source": [
    "selected = random.sample(words,15)\n",
    "joined = ' '.join(selected)\n",
    "print(joined)"
   ]
  },
  {
   "cell_type": "code",
   "execution_count": 18,
   "metadata": {},
   "outputs": [
    {
     "name": "stdout",
     "output_type": "stream",
     "text": [
      "forever a ten,\n",
      "Lifeless and It\n",
      "can again, credibility.\n",
      "They breath for\n",
      "head annually, Now\n",
      "The to on\n",
      "in will, making\n",
      "again. parts, making\n",
      "of for to\n",
      "It her my\n"
     ]
    }
   ],
   "source": [
    "for i in range(10):\n",
    "    selected = random.sample(words, 3)\n",
    "    joined = ' '.join(selected)\n",
    "    print(joined)"
   ]
  },
  {
   "cell_type": "code",
   "execution_count": 19,
   "metadata": {},
   "outputs": [
    {
     "name": "stdout",
     "output_type": "stream",
     "text": [
      "They 4\n",
      "are 3\n",
      "killing 7\n",
      "her 3\n",
      "again. 6\n",
      "She 3\n",
      "said 4\n",
      "she 3\n",
      "did 3\n",
      "it 2\n",
      "One 3\n",
      "year 4\n",
      "in 2\n",
      "every 5\n",
      "ten, 4\n",
      "But 3\n",
      "they 4\n",
      "do 2\n",
      "it 2\n",
      "annually, 9\n",
      "or 2\n",
      "weekly, 7\n",
      "Some 4\n",
      "even 4\n",
      "do 2\n",
      "it 2\n",
      "daily, 6\n",
      "Carrying 8\n",
      "her 3\n",
      "death 5\n",
      "around 6\n",
      "in 2\n",
      "their 5\n",
      "heads 5\n",
      "And 3\n",
      "practising 10\n",
      "it. 3\n",
      "She 3\n",
      "saves 5\n",
      "them 4\n",
      "The 3\n",
      "trouble 7\n",
      "of 2\n",
      "their 5\n",
      "own; 4\n",
      "They 4\n",
      "can 3\n",
      "die 3\n",
      "through 7\n",
      "her 3\n",
      "Without 7\n",
      "ever 4\n",
      "making 6\n",
      "The 3\n",
      "decision. 9\n",
      "My 2\n",
      "buried 6\n",
      "mother 6\n",
      "Is 2\n",
      "up-dug 6\n",
      "for 3\n",
      "repeat 6\n",
      "performances. 13\n",
      "Now 3\n",
      "they 4\n",
      "want 4\n",
      "to 2\n",
      "make 4\n",
      "a 1\n",
      "film 4\n",
      "For 3\n",
      "anyone 6\n",
      "lacking 7\n",
      "the 3\n",
      "ability 7\n",
      "To 2\n",
      "imagine 7\n",
      "the 3\n",
      "body, 5\n",
      "head 4\n",
      "in 2\n",
      "oven, 5\n",
      "Orphaning 9\n",
      "children. 9\n",
      "Then 4\n",
      "It 2\n",
      "can 3\n",
      "be 2\n",
      "rewound 7\n",
      "So 2\n",
      "they 4\n",
      "can 3\n",
      "watch 5\n",
      "her 3\n",
      "die 3\n",
      "Right 5\n",
      "from 4\n",
      "the 3\n",
      "beginning 9\n",
      "again. 6\n",
      "The 3\n",
      "peanut 6\n",
      "eaters, 7\n",
      "entertained 11\n",
      "At 2\n",
      "my 2\n",
      "mother’s 8\n",
      "death, 6\n",
      "will 4\n",
      "go 2\n",
      "home, 5\n",
      "Each 4\n",
      "carrying 8\n",
      "their 5\n",
      "memory 6\n",
      "of 2\n",
      "her, 4\n",
      "Lifeless 8\n",
      "– 1\n",
      "a 1\n",
      "souvenir. 9\n",
      "Maybe 5\n",
      "they’ll 7\n",
      "buy 3\n",
      "the 3\n",
      "video. 6\n",
      "Watching 8\n",
      "someone 7\n",
      "on 2\n",
      "TV 2\n",
      "Means 5\n",
      "all 3\n",
      "they 4\n",
      "have 4\n",
      "to 2\n",
      "do 2\n",
      "Is 2\n",
      "press 5\n",
      "‘pause’ 7\n",
      "If 2\n",
      "they 4\n",
      "want 4\n",
      "to 2\n",
      "boil 4\n",
      "a 1\n",
      "kettle, 7\n",
      "While 5\n",
      "my 2\n",
      "mother 6\n",
      "holds 5\n",
      "her 3\n",
      "breath 6\n",
      "on 2\n",
      "screen 6\n",
      "To 2\n",
      "finish 6\n",
      "dying 5\n",
      "after 5\n",
      "tea. 4\n",
      "The 3\n",
      "filmmakers 10\n",
      "have 4\n",
      "collected 9\n",
      "The 3\n",
      "body 4\n",
      "parts, 6\n",
      "They 4\n",
      "want 4\n",
      "me 2\n",
      "to 2\n",
      "see. 4\n",
      "They 4\n",
      "require 7\n",
      "dressings 9\n",
      "to 2\n",
      "cover 5\n",
      "the 3\n",
      "joins 5\n",
      "And 3\n",
      "disguise 8\n",
      "the 3\n",
      "prosthetics 11\n",
      "In 2\n",
      "their 5\n",
      "remake 6\n",
      "of 2\n",
      "my 2\n",
      "mother. 7\n",
      "They 4\n",
      "want 4\n",
      "to 2\n",
      "use 3\n",
      "her 3\n",
      "poetry 6\n",
      "As 2\n",
      "stitching 9\n",
      "and 3\n",
      "sutures 7\n",
      "To 2\n",
      "give 4\n",
      "it 2\n",
      "credibility. 12\n",
      "They 4\n",
      "think 5\n",
      "I 1\n",
      "should 6\n",
      "love 4\n",
      "it 2\n",
      "– 1\n",
      "Having 6\n",
      "her 3\n",
      "back 4\n",
      "again, 6\n",
      "they 4\n",
      "think 5\n",
      "I 1\n",
      "should 6\n",
      "give 4\n",
      "them 4\n",
      "my 2\n",
      "mother’s 8\n",
      "words 5\n",
      "To 2\n",
      "fill 4\n",
      "the 3\n",
      "mouth 5\n",
      "of 2\n",
      "their 5\n",
      "monster, 8\n",
      "Their 5\n",
      "Sylvia 6\n",
      "Suicide 7\n",
      "Doll, 5\n",
      "Who 3\n",
      "will 4\n",
      "walk 4\n",
      "and 3\n",
      "talk 4\n",
      "And 3\n",
      "die 3\n",
      "at 2\n",
      "will, 5\n",
      "And 3\n",
      "die, 4\n",
      "and 3\n",
      "die 3\n",
      "And 3\n",
      "forever 7\n",
      "be 2\n",
      "dying. 6\n"
     ]
    }
   ],
   "source": [
    "for item in words:\n",
    "    print(item, len(item))"
   ]
  },
  {
   "cell_type": "code",
   "execution_count": 20,
   "metadata": {},
   "outputs": [],
   "source": [
    "d_words = [item.upper() for item in words if item.startswith('d')]"
   ]
  },
  {
   "cell_type": "code",
   "execution_count": 21,
   "metadata": {},
   "outputs": [
    {
     "data": {
      "text/plain": [
       "['DID',\n",
       " 'DO',\n",
       " 'DO',\n",
       " 'DAILY,',\n",
       " 'DEATH',\n",
       " 'DIE',\n",
       " 'DECISION.',\n",
       " 'DIE',\n",
       " 'DEATH,',\n",
       " 'DO',\n",
       " 'DYING',\n",
       " 'DRESSINGS',\n",
       " 'DISGUISE',\n",
       " 'DIE',\n",
       " 'DIE,',\n",
       " 'DIE',\n",
       " 'DYING.']"
      ]
     },
     "execution_count": 21,
     "metadata": {},
     "output_type": "execute_result"
    }
   ],
   "source": [
    "d_words"
   ]
  },
  {
   "cell_type": "code",
   "execution_count": 22,
   "metadata": {},
   "outputs": [],
   "source": [
    "a_words = [item.upper() for item in words if item.startswith('a')]"
   ]
  },
  {
   "cell_type": "code",
   "execution_count": 23,
   "metadata": {},
   "outputs": [
    {
     "data": {
      "text/plain": [
       "['ARE',\n",
       " 'AGAIN.',\n",
       " 'ANNUALLY,',\n",
       " 'AROUND',\n",
       " 'A',\n",
       " 'ANYONE',\n",
       " 'ABILITY',\n",
       " 'AGAIN.',\n",
       " 'A',\n",
       " 'ALL',\n",
       " 'A',\n",
       " 'AFTER',\n",
       " 'AND',\n",
       " 'AGAIN,',\n",
       " 'AND',\n",
       " 'AT',\n",
       " 'AND']"
      ]
     },
     "execution_count": 23,
     "metadata": {},
     "output_type": "execute_result"
    }
   ],
   "source": [
    "a_words"
   ]
  },
  {
   "cell_type": "code",
   "execution_count": 24,
   "metadata": {},
   "outputs": [
    {
     "data": {
      "text/plain": [
       "(['DID',\n",
       "  'DO',\n",
       "  'DO',\n",
       "  'DAILY,',\n",
       "  'DEATH',\n",
       "  'DIE',\n",
       "  'DECISION.',\n",
       "  'DIE',\n",
       "  'DEATH,',\n",
       "  'DO',\n",
       "  'DYING',\n",
       "  'DRESSINGS',\n",
       "  'DISGUISE',\n",
       "  'DIE',\n",
       "  'DIE,',\n",
       "  'DIE',\n",
       "  'DYING.'],\n",
       " ['ARE',\n",
       "  'AGAIN.',\n",
       "  'ANNUALLY,',\n",
       "  'AROUND',\n",
       "  'A',\n",
       "  'ANYONE',\n",
       "  'ABILITY',\n",
       "  'AGAIN.',\n",
       "  'A',\n",
       "  'ALL',\n",
       "  'A',\n",
       "  'AFTER',\n",
       "  'AND',\n",
       "  'AGAIN,',\n",
       "  'AND',\n",
       "  'AT',\n",
       "  'AND'])"
      ]
     },
     "execution_count": 24,
     "metadata": {},
     "output_type": "execute_result"
    }
   ],
   "source": [
    "d_words, a_words"
   ]
  },
  {
   "cell_type": "code",
   "execution_count": 25,
   "metadata": {},
   "outputs": [
    {
     "name": "stdout",
     "output_type": "stream",
     "text": [
      "souvenir. kettle, it The parts, use daily, ten, Means or\n",
      "have Means filmmakers think will anyone to weekly, children. give\n",
      "I of memory TV children. death, So Orphaning Suicide think\n",
      "should after are dying. on cover me saves They Doll,\n",
      "Who go make mother’s to cover them finish monster, death,\n",
      "mouth even up-dug – filmmakers the go her And again.\n",
      "go of of To mother’s can the die trouble on\n",
      "They my it the credibility. To mouth do Then To\n",
      "on give dying buried remake them at And So ten,\n",
      "To said boil my video. they will, prosthetics She It\n"
     ]
    }
   ],
   "source": [
    "for i in range(10):\n",
    "    selected = random.sample(words, 10)\n",
    "    joined = ' '.join(selected)\n",
    "    print(joined)"
   ]
  },
  {
   "cell_type": "code",
   "execution_count": 26,
   "metadata": {},
   "outputs": [
    {
     "name": "stdout",
     "output_type": "stream",
     "text": [
      "['They', 'are', 'killing', 'her', 'again.', 'She', 'said', 'she', 'did', 'it', 'One', 'year', 'in', 'every', 'ten,', 'But', 'they', 'do', 'it', 'annually,', 'or', 'weekly,', 'Some', 'even', 'do', 'it', 'daily,', 'Carrying', 'her', 'death', 'around', 'in', 'their', 'heads', 'And', 'practising', 'it.', 'She', 'saves', 'them', 'The', 'trouble', 'of', 'their', 'own;', 'They', 'can', 'die', 'through', 'her', 'Without', 'ever', 'making', 'The', 'decision.', 'My', 'buried', 'mother', 'Is', 'up-dug', 'for', 'repeat', 'performances.', 'Now', 'they', 'want', 'to', 'make', 'a', 'film', 'For', 'anyone', 'lacking', 'the', 'ability', 'To', 'imagine', 'the', 'body,', 'head', 'in', 'oven,', 'Orphaning', 'children.', 'Then', 'It', 'can', 'be', 'rewound', 'So', 'they', 'can', 'watch', 'her', 'die', 'Right', 'from', 'the', 'beginning', 'again.', 'The', 'peanut', 'eaters,', 'entertained', 'At', 'my', 'mother’s', 'death,', 'will', 'go', 'home,', 'Each', 'carrying', 'their', 'memory', 'of', 'her,', 'Lifeless', '–', 'a', 'souvenir.', 'Maybe', 'they’ll', 'buy', 'the', 'video.', 'Watching', 'someone', 'on', 'TV', 'Means', 'all', 'they', 'have', 'to', 'do', 'Is', 'press', '‘pause’', 'If', 'they', 'want', 'to', 'boil', 'a', 'kettle,', 'While', 'my', 'mother', 'holds', 'her', 'breath', 'on', 'screen', 'To', 'finish', 'dying', 'after', 'tea.', 'The', 'filmmakers', 'have', 'collected', 'The', 'body', 'parts,', 'They', 'want', 'me', 'to', 'see.', 'They', 'require', 'dressings', 'to', 'cover', 'the', 'joins', 'And', 'disguise', 'the', 'prosthetics', 'In', 'their', 'remake', 'of', 'my', 'mother.', 'They', 'want', 'to', 'use', 'her', 'poetry', 'As', 'stitching', 'and', 'sutures', 'To', 'give', 'it', 'credibility.', 'They', 'think', 'I', 'should', 'love', 'it', '–', 'Having', 'her', 'back', 'again,', 'they', 'think', 'I', 'should', 'give', 'them', 'my', 'mother’s', 'words', 'To', 'fill', 'the', 'mouth', 'of', 'their', 'monster,', 'Their', 'Sylvia', 'Suicide', 'Doll,', 'Who', 'will', 'walk', 'and', 'talk', 'And', 'die', 'at', 'will,', 'And', 'die,', 'and', 'die', 'And', 'forever', 'be', 'dying.'] ['DID', 'DO', 'DO', 'DAILY,', 'DEATH', 'DIE', 'DECISION.', 'DIE', 'DEATH,', 'DO', 'DYING', 'DRESSINGS', 'DISGUISE', 'DIE', 'DIE,', 'DIE', 'DYING.']\n"
     ]
    }
   ],
   "source": [
    "print(words,d_words)"
   ]
  },
  {
   "cell_type": "code",
   "execution_count": 27,
   "metadata": {},
   "outputs": [
    {
     "name": "stdout",
     "output_type": "stream",
     "text": [
      "Lu Ll Ll Ll Zs Ll Ll Ll Zs Ll Ll Ll Ll Ll Ll Ll Zs Ll Ll Ll Zs Ll Ll Ll Ll Ll Po Cc Lu Ll Ll Zs Ll Ll Ll Ll Zs Ll Ll Ll Zs Ll Ll Ll Zs Ll Ll Cc Lu Ll Ll Zs Ll Ll Ll Ll Zs Ll Ll Zs Ll Ll Ll Ll Ll Zs Ll Ll Ll Po Cc Lu Ll Ll Zs Ll Ll Ll Ll Zs Ll Ll Zs Ll Ll Zs Ll Ll Ll Ll Ll Ll Ll Ll Po Zs Ll Ll Zs Ll Ll Ll Ll Ll Ll Po Cc Lu Ll Ll Ll Zs Ll Ll Ll Ll Zs Ll Ll Zs Ll Ll Zs Ll Ll Ll Ll Ll Po Cc Lu Ll Ll Ll Ll Ll Ll Ll Zs Ll Ll Ll Zs Ll Ll Ll Ll Ll Zs Ll Ll Ll Ll Ll Ll Zs Ll Ll Zs Ll Ll Ll Ll Ll Zs Ll Ll Ll Ll Ll Cc Lu Ll Ll Zs Ll Ll Ll Ll Ll Ll Ll Ll Ll Ll Zs Ll Ll Po Zs Lu Ll Ll Zs Ll Ll Ll Ll Ll Zs Ll Ll Ll Ll Cc Lu Ll Ll Zs Ll Ll Ll Ll Ll Ll Ll Zs Ll Ll Zs Ll Ll Ll Ll Ll Zs Ll Ll Ll Po Cc Lu Ll Ll Ll Zs Ll Ll Ll Zs Ll Ll Ll Zs Ll Ll Ll Ll Ll Ll Ll Zs Ll Ll Ll Cc Lu Ll Ll Ll Ll Ll Ll Zs Ll Ll Ll Ll Zs Ll Ll Ll Ll Ll Ll Cc Lu Ll Ll Zs Ll Ll Ll Ll Ll Ll Ll Ll Po Zs Lu Ll Zs Ll Ll Ll Ll Ll Ll Zs Ll Ll Ll Ll Ll Ll Cc Lu Ll Zs Ll Ll Pd Ll Ll Ll Zs Ll Ll Ll Zs Ll Ll Ll Ll Ll Ll Zs Ll Ll Ll Ll Ll Ll Ll Ll Ll Ll Ll Ll Po Cc Cc Lu Ll Ll Zs Ll Ll Ll Ll Zs Ll Ll Ll Ll Zs Ll Ll Zs Ll Ll Ll Ll Zs Ll Zs Ll Ll Ll Ll Cc Lu Ll Ll Zs Ll Ll Ll Ll Ll Ll Zs Ll Ll Ll Ll Ll Ll Ll Zs Ll Ll Ll Zs Ll Ll Ll Ll Ll Ll Ll Cc Lu Ll Zs Ll Ll Ll Ll Ll Ll Ll Zs Ll Ll Ll Zs Ll Ll Ll Ll Po Zs Ll Ll Ll Ll Zs Ll Ll Zs Ll Ll Ll Ll Po Cc Lu Ll Ll Ll Ll Ll Ll Ll Ll Zs Ll Ll Ll Ll Ll Ll Ll Ll Po Zs Lu Ll Ll Ll Cc Lu Ll Zs Ll Ll Ll Zs Ll Ll Zs Ll Ll Ll Ll Ll Ll Ll Cc Lu Ll Zs Ll Ll Ll Ll Zs Ll Ll Ll Zs Ll Ll Ll Ll Ll Zs Ll Ll Ll Zs Ll Ll Ll Cc Lu Ll Ll Ll Ll Zs Ll Ll Ll Ll Zs Ll Ll Ll Zs Ll Ll Ll Ll Ll Ll Ll Ll Ll Zs Ll Ll Ll Ll Ll Po Cc Cc Lu Ll Ll Zs Ll Ll Ll Ll Ll Ll Zs Ll Ll Ll Ll Ll Ll Po Zs Ll Ll Ll Ll Ll Ll Ll Ll Ll Ll Ll Cc Lu Ll Zs Ll Ll Zs Ll Ll Ll Ll Ll Ll Pf Ll Zs Ll Ll Ll Ll Ll Po Zs Ll Ll Ll Ll Zs Ll Ll Zs Ll Ll Ll Ll Po Cc Lu Ll Ll Ll Zs Ll Ll Ll Ll Ll Ll Ll Ll Zs Ll Ll Ll Ll Ll Zs Ll Ll Ll Ll Ll Ll Zs Ll Ll Zs Ll Ll Ll Po Cc Lu Ll Ll Ll Ll Ll Ll Ll Zs Pd Zs Ll Zs Ll Ll Ll Ll Ll Ll Ll Ll Po Cc Lu Ll Ll Ll Ll Zs Ll Ll Ll Ll Pf Ll Ll Zs Ll Ll Ll Zs Ll Ll Ll Zs Ll Ll Ll Ll Ll Po Cc Cc Lu Ll Ll Ll Ll Ll Ll Ll Zs Ll Ll Ll Ll Ll Ll Ll Zs Ll Ll Zs Lu Lu Cc Lu Ll Ll Ll Ll Zs Ll Ll Ll Zs Ll Ll Ll Ll Zs Ll Ll Ll Ll Zs Ll Ll Zs Ll Ll Cc Lu Ll Zs Ll Ll Ll Ll Ll Zs Pi Ll Ll Ll Ll Ll Pf Cc Lu Ll Zs Ll Ll Ll Ll Zs Ll Ll Ll Ll Zs Ll Ll Zs Ll Ll Ll Ll Zs Ll Zs Ll Ll Ll Ll Ll Ll Po Cc Lu Ll Ll Ll Ll Zs Ll Ll Zs Ll Ll Ll Ll Ll Ll Zs Ll Ll Ll Ll Ll Zs Ll Ll Ll Zs Ll Ll Ll Ll Ll Ll Zs Ll Ll Zs Ll Ll Ll Ll Ll Ll Cc Lu Ll Zs Ll Ll Ll Ll Ll Ll Zs Ll Ll Ll Ll Ll Zs Ll Ll Ll Ll Ll Zs Ll Ll Ll Po Cc Lu Ll Ll Zs Ll Ll Ll Ll Ll Ll Ll Ll Ll Ll Zs Ll Ll Ll Ll Zs Ll Ll Ll Ll Ll Ll Ll Ll Ll Cc Lu Ll Ll Zs Ll Ll Ll Ll Zs Ll Ll Ll Ll Ll Po Cc Lu Ll Ll Ll Zs Ll Ll Ll Ll Zs Ll Ll Zs Ll Ll Zs Ll Ll Ll Po Cc Lu Ll Ll Ll Zs Ll Ll Ll Ll Ll Ll Ll Zs Ll Ll Ll Ll Ll Ll Ll Ll Ll Zs Ll Ll Zs Ll Ll Ll Ll Ll Zs Ll Ll Ll Zs Ll Ll Ll Ll Ll Cc Lu Ll Ll Zs Ll Ll Ll Ll Ll Ll Ll Ll Zs Ll Ll Ll Zs Ll Ll Ll Ll Ll Ll Ll Ll Ll Ll Ll Cc Lu Ll Zs Ll Ll Ll Ll Ll Zs Ll Ll Ll Ll Ll Ll Zs Ll Ll Zs Ll Ll Zs Ll Ll Ll Ll Ll Ll Po Cc Lu Ll Ll Ll Zs Ll Ll Ll Ll Zs Ll Ll Zs Ll Ll Ll Zs Ll Ll Ll Zs Ll Ll Ll Ll Ll Ll Cc Lu Ll Zs Ll Ll Ll Ll Ll Ll Ll Ll Ll Zs Ll Ll Ll Zs Ll Ll Ll Ll Ll Ll Ll Cc Lu Ll Zs Ll Ll Ll Ll Zs Ll Ll Zs Ll Ll Ll Ll Ll Ll Ll Ll Ll Ll Ll Po Cc Lu Ll Ll Ll Zs Ll Ll Ll Ll Ll Zs Lu Zs Ll Ll Ll Ll Ll Ll Zs Ll Ll Ll Ll Zs Ll Ll Zs Pd Cc Lu Ll Ll Ll Ll Ll Zs Ll Ll Ll Zs Ll Ll Ll Ll Zs Ll Ll Ll Ll Ll Po Zs Ll Ll Ll Ll Zs Ll Ll Ll Ll Ll Cc Lu Zs Ll Ll Ll Ll Ll Ll Zs Ll Ll Ll Ll Zs Ll Ll Ll Ll Zs Ll Ll Zs Ll Ll Ll Ll Ll Ll Pf Ll Zs Ll Ll Ll Ll Ll Cc Lu Ll Zs Ll Ll Ll Ll Zs Ll Ll Ll Zs Ll Ll Ll Ll Ll Zs Ll Ll Zs Ll Ll Ll Ll Ll Zs Ll Ll Ll Ll Ll Ll Ll Po Cc Lu Ll Ll Ll Ll Zs Lu Ll Ll Ll Ll Ll Zs Lu Ll Ll Ll Ll Ll Ll Zs Lu Ll Ll Ll Po Cc Lu Ll Ll Zs Ll Ll Ll Ll Zs Ll Ll Ll Ll Zs Ll Ll Ll Zs Ll Ll Ll Ll Cc Lu Ll Ll Zs Ll Ll Ll Zs Ll Ll Zs Ll Ll Ll Ll Po Cc Lu Ll Ll Zs Ll Ll Ll Po Zs Ll Ll Ll Zs Ll Ll Ll Cc Lu Ll Ll Zs Ll Ll Ll Ll Ll Ll Ll Zs Ll Ll Zs Ll Ll Ll Ll Ll Po Cc Cc \n"
     ]
    }
   ],
   "source": [
    "out = \"\"\n",
    "for ch in text:\n",
    "    out += unicodedata.category(ch)\n",
    "    out += \" \"\n",
    "print(out)"
   ]
  },
  {
   "cell_type": "code",
   "execution_count": 28,
   "metadata": {},
   "outputs": [
    {
     "name": "stdout",
     "output_type": "stream",
     "text": [
      "9 81\n"
     ]
    }
   ],
   "source": [
    "print(i, i*i)"
   ]
  },
  {
   "cell_type": "code",
   "execution_count": 29,
   "metadata": {},
   "outputs": [
    {
     "data": {
      "text/plain": [
       "(['DID',\n",
       "  'DO',\n",
       "  'DO',\n",
       "  'DAILY,',\n",
       "  'DEATH',\n",
       "  'DIE',\n",
       "  'DECISION.',\n",
       "  'DIE',\n",
       "  'DEATH,',\n",
       "  'DO',\n",
       "  'DYING',\n",
       "  'DRESSINGS',\n",
       "  'DISGUISE',\n",
       "  'DIE',\n",
       "  'DIE,',\n",
       "  'DIE',\n",
       "  'DYING.'],\n",
       " ['ARE',\n",
       "  'AGAIN.',\n",
       "  'ANNUALLY,',\n",
       "  'AROUND',\n",
       "  'A',\n",
       "  'ANYONE',\n",
       "  'ABILITY',\n",
       "  'AGAIN.',\n",
       "  'A',\n",
       "  'ALL',\n",
       "  'A',\n",
       "  'AFTER',\n",
       "  'AND',\n",
       "  'AGAIN,',\n",
       "  'AND',\n",
       "  'AT',\n",
       "  'AND'])"
      ]
     },
     "execution_count": 29,
     "metadata": {},
     "output_type": "execute_result"
    }
   ],
   "source": [
    "d_words, a_words"
   ]
  },
  {
   "cell_type": "code",
   "execution_count": 30,
   "metadata": {},
   "outputs": [],
   "source": [
    "s_words = [item.upper() for item in words if item.startswith('s')]"
   ]
  },
  {
   "cell_type": "code",
   "execution_count": 31,
   "metadata": {},
   "outputs": [
    {
     "data": {
      "text/plain": [
       "['SAID',\n",
       " 'SHE',\n",
       " 'SAVES',\n",
       " 'SOUVENIR.',\n",
       " 'SOMEONE',\n",
       " 'SCREEN',\n",
       " 'SEE.',\n",
       " 'STITCHING',\n",
       " 'SUTURES',\n",
       " 'SHOULD',\n",
       " 'SHOULD']"
      ]
     },
     "execution_count": 31,
     "metadata": {},
     "output_type": "execute_result"
    }
   ],
   "source": [
    "s_words"
   ]
  },
  {
   "cell_type": "code",
   "execution_count": 32,
   "metadata": {},
   "outputs": [],
   "source": [
    "m_words = [item.upper() for item in words if item.startswith('m')]"
   ]
  },
  {
   "cell_type": "code",
   "execution_count": 33,
   "metadata": {},
   "outputs": [
    {
     "data": {
      "text/plain": [
       "['MAKING',\n",
       " 'MOTHER',\n",
       " 'MAKE',\n",
       " 'MY',\n",
       " 'MOTHER’S',\n",
       " 'MEMORY',\n",
       " 'MY',\n",
       " 'MOTHER',\n",
       " 'ME',\n",
       " 'MY',\n",
       " 'MOTHER.',\n",
       " 'MY',\n",
       " 'MOTHER’S',\n",
       " 'MOUTH',\n",
       " 'MONSTER,']"
      ]
     },
     "execution_count": 33,
     "metadata": {},
     "output_type": "execute_result"
    }
   ],
   "source": [
    "m_words"
   ]
  },
  {
   "cell_type": "code",
   "execution_count": 34,
   "metadata": {},
   "outputs": [
    {
     "ename": "NameError",
     "evalue": "name 'S_words' is not defined",
     "output_type": "error",
     "traceback": [
      "\u001b[0;31m---------------------------------------------------------------------------\u001b[0m",
      "\u001b[0;31mNameError\u001b[0m                                 Traceback (most recent call last)",
      "\u001b[0;32m<ipython-input-34-45c65c0be91a>\u001b[0m in \u001b[0;36m<module>\u001b[0;34m\u001b[0m\n\u001b[0;32m----> 1\u001b[0;31m \u001b[0mm_words\u001b[0m\u001b[0;34m,\u001b[0m\u001b[0ms_words\u001b[0m\u001b[0;34m,\u001b[0m\u001b[0ma_words\u001b[0m\u001b[0;34m,\u001b[0m\u001b[0mS_words\u001b[0m\u001b[0;34m\u001b[0m\u001b[0;34m\u001b[0m\u001b[0m\n\u001b[0m",
      "\u001b[0;31mNameError\u001b[0m: name 'S_words' is not defined"
     ]
    }
   ],
   "source": [
    "m_words,s_words,a_words,S_words"
   ]
  },
  {
   "cell_type": "code",
   "execution_count": null,
   "metadata": {},
   "outputs": [],
   "source": [
    "S_words = [item.upper() for item in words if item.startswith('S')]"
   ]
  },
  {
   "cell_type": "code",
   "execution_count": null,
   "metadata": {},
   "outputs": [],
   "source": [
    "S_words"
   ]
  },
  {
   "cell_type": "code",
   "execution_count": null,
   "metadata": {},
   "outputs": [],
   "source": [
    "def mkdiv(content, **kwargs):\n",
    "    if 'position' not in kwargs:\n",
    "        kwargs['position'] = 'absolute'\n",
    "    style_str = ' '.join([\": \".join((k.replace('_', '-'), v))+\";\" for k, v in kwargs.items()])\n",
    "    return f\"<div style='{style_str}'>{content}</div>\"\n"
   ]
  },
  {
   "cell_type": "code",
   "execution_count": null,
   "metadata": {
    "scrolled": true
   },
   "outputs": [],
   "source": [
    "words = open(\"my_mother.txt\").read().split()\n",
    "divs = []\n",
    "angle_step = 15\n",
    "for i, word in enumerate(words):\n",
    "    angle = i * angle_step\n",
    "    this_div = mkdiv(word,\n",
    "                     top=f\"50%\",\n",
    "                     left=f\"50%\",\n",
    "                     height=f\"{12+i*3}pt\",\n",
    "                     font_size=\"12pt\",\n",
    "                     #border=\"1px black solid\", # uncomment to see the boxes\n",
    "                     transform=f\"translate(-50%, -50%) rotate({angle}deg)\")\n",
    "    divs.append(this_div)\n",
    "html_src = html_tmpl.format(title=\"frost spiral\", content=\"\".join(divs))\n",
    "show_html(html_src)"
   ]
  },
  {
   "cell_type": "code",
   "execution_count": null,
   "metadata": {},
   "outputs": [],
   "source": []
  }
 ],
 "metadata": {
  "kernelspec": {
   "display_name": "Python 3",
   "language": "python",
   "name": "python3"
  },
  "language_info": {
   "codemirror_mode": {
    "name": "ipython",
    "version": 3
   },
   "file_extension": ".py",
   "mimetype": "text/x-python",
   "name": "python",
   "nbconvert_exporter": "python",
   "pygments_lexer": "ipython3",
   "version": "3.8.5"
  }
 },
 "nbformat": 4,
 "nbformat_minor": 4
}
